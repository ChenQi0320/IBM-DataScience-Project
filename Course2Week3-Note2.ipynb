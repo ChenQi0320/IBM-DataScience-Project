{
    "cells": [
        {
            "cell_type": "code",
            "execution_count": 1,
            "metadata": {},
            "outputs": [
                {
                    "data": {
                        "text/html": "<div>\n<style scoped>\n    .dataframe tbody tr th:only-of-type {\n        vertical-align: middle;\n    }\n\n    .dataframe tbody tr th {\n        vertical-align: top;\n    }\n\n    .dataframe thead th {\n        text-align: right;\n    }\n</style>\n<table border=\"1\" class=\"dataframe\">\n  <thead>\n    <tr style=\"text-align: right;\">\n      <th></th>\n      <th>id</th>\n      <th>duration</th>\n      <th>n_bids</th>\n      <th>cond</th>\n      <th>start_pr</th>\n      <th>ship_pr</th>\n      <th>total_pr</th>\n      <th>ship_sp</th>\n      <th>seller_rate</th>\n      <th>stock_photo</th>\n      <th>wheels</th>\n      <th>title</th>\n    </tr>\n  </thead>\n  <tbody>\n    <tr>\n      <th>0</th>\n      <td>150377422259</td>\n      <td>3</td>\n      <td>20</td>\n      <td>new</td>\n      <td>0.99</td>\n      <td>4.00</td>\n      <td>51.55</td>\n      <td>standard</td>\n      <td>1580</td>\n      <td>yes</td>\n      <td>1</td>\n      <td>~~ Wii MARIO KART &amp;amp; WHEEL ~ NINTENDO Wii ~...</td>\n    </tr>\n    <tr>\n      <th>1</th>\n      <td>260483376854</td>\n      <td>7</td>\n      <td>13</td>\n      <td>used</td>\n      <td>0.99</td>\n      <td>3.99</td>\n      <td>37.04</td>\n      <td>firstClass</td>\n      <td>365</td>\n      <td>yes</td>\n      <td>1</td>\n      <td>Mariokart Wii Nintendo with wheel - Mario Kart...</td>\n    </tr>\n    <tr>\n      <th>2</th>\n      <td>320432342985</td>\n      <td>3</td>\n      <td>16</td>\n      <td>new</td>\n      <td>0.99</td>\n      <td>3.50</td>\n      <td>45.50</td>\n      <td>firstClass</td>\n      <td>998</td>\n      <td>no</td>\n      <td>1</td>\n      <td>Mario Kart Wii (Wii)</td>\n    </tr>\n    <tr>\n      <th>3</th>\n      <td>280405224677</td>\n      <td>3</td>\n      <td>18</td>\n      <td>new</td>\n      <td>0.99</td>\n      <td>0.00</td>\n      <td>44.00</td>\n      <td>standard</td>\n      <td>7</td>\n      <td>yes</td>\n      <td>1</td>\n      <td>Brand New Mario Kart Wii Comes with Wheel. Fre...</td>\n    </tr>\n    <tr>\n      <th>4</th>\n      <td>170392227765</td>\n      <td>1</td>\n      <td>20</td>\n      <td>new</td>\n      <td>0.01</td>\n      <td>0.00</td>\n      <td>71.00</td>\n      <td>media</td>\n      <td>820</td>\n      <td>yes</td>\n      <td>2</td>\n      <td>BRAND NEW NINTENDO 1 WII MARIO KART WITH 2 WHE...</td>\n    </tr>\n  </tbody>\n</table>\n</div>",
                        "text/plain": "             id  duration  n_bids  cond  start_pr  ship_pr  total_pr  \\\n0  150377422259         3      20   new      0.99     4.00     51.55   \n1  260483376854         7      13  used      0.99     3.99     37.04   \n2  320432342985         3      16   new      0.99     3.50     45.50   \n3  280405224677         3      18   new      0.99     0.00     44.00   \n4  170392227765         1      20   new      0.01     0.00     71.00   \n\n      ship_sp  seller_rate stock_photo  wheels  \\\n0    standard         1580         yes       1   \n1  firstClass          365         yes       1   \n2  firstClass          998          no       1   \n3    standard            7         yes       1   \n4       media          820         yes       2   \n\n                                               title  \n0  ~~ Wii MARIO KART &amp; WHEEL ~ NINTENDO Wii ~...  \n1  Mariokart Wii Nintendo with wheel - Mario Kart...  \n2                               Mario Kart Wii (Wii)  \n3  Brand New Mario Kart Wii Comes with Wheel. Fre...  \n4  BRAND NEW NINTENDO 1 WII MARIO KART WITH 2 WHE...  "
                    },
                    "execution_count": 1,
                    "metadata": {},
                    "output_type": "execute_result"
                }
            ],
            "source": "# The code was removed by Watson Studio for sharing."
        },
        {
            "cell_type": "code",
            "execution_count": null,
            "metadata": {},
            "outputs": [],
            "source": ""
        }
    ],
    "metadata": {
        "kernelspec": {
            "display_name": "Python 3.9 with Spark",
            "language": "python3",
            "name": "python39"
        },
        "language_info": {
            "codemirror_mode": {
                "name": "ipython",
                "version": 3
            },
            "file_extension": ".py",
            "mimetype": "text/x-python",
            "name": "python",
            "nbconvert_exporter": "python",
            "pygments_lexer": "ipython3",
            "version": "3.9.7"
        }
    },
    "nbformat": 4,
    "nbformat_minor": 1
}