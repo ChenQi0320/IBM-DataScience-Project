{
 "cells": [
  {
   "cell_type": "markdown",
   "id": "1a677714-73d6-4e1b-814a-8077b1eea043",
   "metadata": {},
   "source": [
    "# My Jupyter Notebook on IBM Watson Studio"
   ]
  },
  {
   "cell_type": "markdown",
   "id": "9c6afbee-5a23-41bb-93b1-99bf4d329776",
   "metadata": {},
   "source": [
    "**Chen Qi** <br>\n",
    "Desired Occupation: Financial Data Analyst"
   ]
  },
  {
   "cell_type": "markdown",
   "id": "9c84a09c-059a-474f-8cec-bd739857a0cd",
   "metadata": {},
   "source": [
    "*I am interested in Data Science because I believe that data science is the tool that can help my homeland, China, to escape the current economic development trap. China has exhausted almost all financial resources in national sectors but utilized only a small portion of resources in private sectors. I think data science in the financial industry can advance existing financial services and develop new financial products for individuals and small firms in China and therefore boost up the development of private economy in China.*"
   ]
  },
  {
   "cell_type": "markdown",
   "id": "dc3442f9-8981-4853-9b92-5d4b89f632ff",
   "metadata": {},
   "source": [
    "### In the following cell i will use the 'pandas' package to load a dataset that i have previously worked on in a study about Covid-19. Then, show the first 5 rows in the dataset."
   ]
  },
  {
   "cell_type": "code",
   "execution_count": 3,
   "id": "367638c4-f28e-4073-994f-0fb4c2b1ebb3",
   "metadata": {},
   "outputs": [
    {
     "name": "stdout",
     "output_type": "stream",
     "text": [
      "   COUNTYFP  NEVER  RARELY  SOMETIMES  FREQUENTLY  ALWAYS\n",
      "0      1001  0.053   0.074      0.134       0.295   0.444\n",
      "1      1003  0.083   0.059      0.098       0.323   0.436\n",
      "2      1005  0.067   0.121      0.120       0.201   0.491\n",
      "3      1007  0.020   0.034      0.096       0.278   0.572\n",
      "4      1009  0.053   0.114      0.180       0.194   0.459\n"
     ]
    }
   ],
   "source": [
    "import pandas as pd\n",
    "df=pd.read_csv(\"https://raw.githubusercontent.com/nytimes/covid-19-data/master/mask-use/mask-use-by-county.csv\")\n",
    "print(df.head(5))"
   ]
  },
  {
   "cell_type": "markdown",
   "id": "90f8c701-ffbe-4327-9e68-c0d30c18e8e3",
   "metadata": {},
   "source": [
    "### Show all the fields in the dataset in the list format\n",
    "* COUNTYYFP\n",
    "* NEVER\n",
    "* RARELY\n",
    "* SOMETIMES\n",
    "* FREQUENTLY\n",
    "* ALWAYS\n",
    "\n",
    "### Here is a heat map in my project which used the dataset above:\n",
    "![Heat Map of Mask Usage](https://github.com/ChenQi0320/IBM-DataScience-Project/blob/main/Screen%20Shot%202022-06-26%20at%207.08.39%20PM.png?raw=True)\n",
    "\n",
    "### Here is the hyperlink to my previous project on Covid-19 which incorporated the dataset above:\n",
    "[Covid-19 Porject - Chen Qi](file:///Users/chenqi/Desktop/Desktop%20-%20%E4%BA%93%E8%BE%B0%E7%9A%84MacBook%20Pro/emory/2021%20Fall/QTM151/Final%20Project/QTM151-FP-draft3.html)"
   ]
  }
 ],
 "metadata": {
  "kernelspec": {
   "display_name": "Python 3",
   "language": "python",
   "name": "python3"
  },
  "language_info": {
   "codemirror_mode": {
    "name": "ipython",
    "version": 3
   },
   "file_extension": ".py",
   "mimetype": "text/x-python",
   "name": "python",
   "nbconvert_exporter": "python",
   "pygments_lexer": "ipython3",
   "version": "3.8.8"
  }
 },
 "nbformat": 4,
 "nbformat_minor": 5
}
